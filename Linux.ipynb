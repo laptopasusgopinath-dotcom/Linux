{
  "nbformat": 4,
  "nbformat_minor": 0,
  "metadata": {
    "colab": {
      "provenance": []
    },
    "kernelspec": {
      "name": "python3",
      "display_name": "Python 3"
    },
    "language_info": {
      "name": "python"
    }
  },
  "cells": [
    {
      "cell_type": "code",
      "execution_count": null,
      "metadata": {
        "id": "CdJfNVmvP1v0"
      },
      "outputs": [],
      "source": []
    },
    {
      "cell_type": "markdown",
      "source": [
        "# Linux"
      ],
      "metadata": {
        "id": "T-7YETLDP8t7"
      }
    },
    {
      "cell_type": "markdown",
      "source": [
        "## 1. What is Linux ?\n",
        "\n",
        "- Linux is a operating system(OS). It is mainly Command Line OS which free, fast, powerful and customizable.\n",
        "\n"
      ],
      "metadata": {
        "id": "AHFNov0xR9d1"
      }
    },
    {
      "cell_type": "markdown",
      "source": [
        "## 2. What is the difference between Hard Link & Soft Link ?\n",
        "- A **hard link** is basically another name for the same file. It points straight to the file’s data, so even if the original file is deleted, the hard link still works. Both share the same inode, but hard links can’t be made for directories and only work in the same filesystem.\n",
        "\n",
        "  A **soft link** (symbolic link) is more like a shortcut. It just points to the file’s path, not the actual data. If the original file is deleted or moved, the soft link breaks. Unlike hard links, soft links can cross filesystems and can also point to directories."
      ],
      "metadata": {
        "id": "7G9l9DwFTO2l"
      }
    },
    {
      "cell_type": "markdown",
      "source": [
        "## 3. What is a Kernel in Linux ?\n",
        "- A **kernel** in Linux is the core part of the operating system. It acts like a middleman between your computer’s hardware and the software you run. When we open a program, save a file, or connect to the internet, the kernel makes sure everything talks to the hardware properly and safely."
      ],
      "metadata": {
        "id": "zZjS6NeLVc7h"
      }
    },
    {
      "cell_type": "markdown",
      "source": [
        "## 4. How do you create a user account ?\n",
        "- sudo adduser username\n"
      ],
      "metadata": {
        "id": "rQjLnBERWNCs"
      }
    },
    {
      "cell_type": "markdown",
      "source": [
        "## 5. What is the ‘grep’ command used for in Linux ?\n",
        "- **grep** is a Linux command used to search for text or patterns in files or command outputs"
      ],
      "metadata": {
        "id": "FE7rTYQ7Wre_"
      }
    },
    {
      "cell_type": "markdown",
      "source": [
        "## 6. Step1: Create user p1\n",
        "  ##     Step2: He should be part of 3 groups g1,g2,g3.\n",
        "  ## Step3: whenever he creates a file automatically in the group section of file grp g1 should come\n",
        "\n",
        "\n",
        "\n",
        "- Ans -\n",
        "\n",
        "sudo adduser p1\n",
        "\n",
        "sudo groupadd g1\n",
        "\n",
        "sudo groupadd g2\n",
        "\n",
        "sudo groupadd g3\n",
        "\n",
        " Step 3: Add p1 to groups g1,g2,g3\n",
        "\n",
        "sudo usermod -aG g1,g2,g3 p1\n",
        "\n",
        "groups p1\n",
        "\n",
        "p1 : p1 g1 g2 g3\n",
        "\n",
        "\n",
        "sudo mkdir -p /home/gopi/bg\n",
        "\n",
        "sudo chown p1:g1 /home/gopi/bg\n",
        "\n",
        "sudo chmod g+s /home/gopi/bg\n",
        "\n",
        "su - p1\n",
        "\n",
        "cd /home/gopi/bg\n",
        "\n",
        "touch testfile\n",
        "\n",
        "ls -l\n",
        "\n",
        " -rw-r--r-- 1 p1 g1 0 Sep 21 21:12 testfile\n"
      ],
      "metadata": {
        "id": "gCGb3LpV4Fo6"
      }
    },
    {
      "cell_type": "markdown",
      "source": [
        "## 7. Step1: Create directory /tmp/bg as root user and create files inside it.\n",
        "\n",
        "## Step2: “abhi” should be the owner of the directory. He should be able to create files and delete files inside\n",
        "\n",
        "## the directory and also he should be able to add content to all files inside the directory\n",
        "\n",
        "- Ans -\n",
        "\n",
        "sudo adduser abhi\n",
        "\n",
        "\n",
        "sudo mkdir -p /tmp/bg\n",
        "\n",
        "sudo chown abhi:abhi /tmp/bg\n",
        "\n",
        "\n",
        "sudo chmod 700 /tmp/bg\n",
        "\n",
        "su - abhi\n",
        "\n",
        "cd /tmp/bg\n",
        "\n",
        "touch file1.txt\n",
        "\n",
        "echo \"This is a test file\" > file1.txt\n",
        "\n",
        "ls -l\n",
        "\n",
        "-rw------- 1 abhi abhi 20 Sep 21 21:40 file1.txt\n",
        "\n",
        "\n",
        "\n",
        "\n",
        "\n",
        "\n",
        "\n",
        "\n",
        "\n",
        "\n",
        "\n"
      ],
      "metadata": {
        "id": "Ub_7WIQI5yDX"
      }
    },
    {
      "cell_type": "markdown",
      "source": [
        "## 8. You suspect that a particular process is consuming excessive CPU resources on your Linux server. How\n",
        "## would you identify and terminate this process?\n",
        "\n",
        "- Ans -\n",
        "\n",
        "htop\n",
        "\n",
        "sudo kill **process id**\n",
        "\n",
        "if it don't kill then i use\n",
        "\n",
        "sudo kill -9 **process id**\n",
        "\n",
        "\n",
        "\n",
        "\n",
        "\n",
        "\n",
        "\n",
        "\n",
        "\n"
      ],
      "metadata": {
        "id": "vVENvM1D6wP2"
      }
    }
  ]
}